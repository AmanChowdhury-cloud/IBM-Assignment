{
 "cells": [
  {
   "cell_type": "markdown",
   "id": "42a7cb22-68af-4981-8704-fb926b8ffbcc",
   "metadata": {},
   "source": [
    "# My Jupyter Notebook on IBM Watson Studio"
   ]
  },
  {
   "cell_type": "markdown",
   "id": "8d8ff6af-60d2-4874-b552-d7b98594dfe7",
   "metadata": {},
   "source": [
    "### Aman Chowdhury\n",
    "Data Scientist"
   ]
  },
  {
   "cell_type": "markdown",
   "id": "911ef661-4c80-4dc7-86ac-d0299debc5be",
   "metadata": {},
   "source": [
    "I am interested in Data Science because I would love to contribute towards affordable and quality healthcare in the future"
   ]
  },
  {
   "cell_type": "markdown",
   "id": "3026d541-771d-43dc-8c65-7151ed1b0f67",
   "metadata": {},
   "source": [
    "## The below code will input two nos. and add them"
   ]
  },
  {
   "cell_type": "code",
   "execution_count": 1,
   "id": "a9b47cbf-8834-414d-a743-21909c4c6e7d",
   "metadata": {},
   "outputs": [
    {
     "name": "stdin",
     "output_type": "stream",
     "text": [
      "Enter a no. :  5\n",
      "Enter a no. :  4\n"
     ]
    },
    {
     "name": "stdout",
     "output_type": "stream",
     "text": [
      "5 + 4  =  9\n"
     ]
    }
   ],
   "source": [
    "a=int(input(\"Enter a no. : \"))\n",
    "b=int(input(\"Enter a no. : \"))\n",
    "print(a,\"+\",b,\" = \",a+b)"
   ]
  },
  {
   "cell_type": "markdown",
   "id": "d9c58f52-4e9b-419e-a112-29541fbf554a",
   "metadata": {},
   "source": [
    "You miss 100% of the shots you don't take\n",
    "\n",
    " - Wayne Gretzky\n",
    " - Micheal Scott"
   ]
  },
  {
   "cell_type": "code",
   "execution_count": null,
   "id": "8b0d7fb3-83b2-4d19-bd7d-dfe220a8b395",
   "metadata": {},
   "outputs": [],
   "source": []
  }
 ],
 "metadata": {
  "kernelspec": {
   "display_name": "Python",
   "language": "python",
   "name": "conda-env-python-py"
  },
  "language_info": {
   "codemirror_mode": {
    "name": "ipython",
    "version": 3
   },
   "file_extension": ".py",
   "mimetype": "text/x-python",
   "name": "python",
   "nbconvert_exporter": "python",
   "pygments_lexer": "ipython3",
   "version": "3.7.12"
  }
 },
 "nbformat": 4,
 "nbformat_minor": 5
}
